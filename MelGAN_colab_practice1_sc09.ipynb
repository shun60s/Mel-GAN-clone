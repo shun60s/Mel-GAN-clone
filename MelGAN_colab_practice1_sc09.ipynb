{
  "nbformat": 4,
  "nbformat_minor": 0,
  "metadata": {
    "colab": {
      "name": "MelGAN_colab_practice1_sc09.ipynb",
      "provenance": [],
      "collapsed_sections": []
    },
    "kernelspec": {
      "name": "python3",
      "display_name": "Python 3"
    },
    "accelerator": "GPU"
  },
  "cells": [
    {
      "cell_type": "markdown",
      "metadata": {
        "id": "G2-EtV_r0-rU"
      },
      "source": [
        "**Mel GAN practice**\n",
        "\n",
        "**train and generate**\n",
        "\n",
        "**using  Speech Commands Zero through Nine (SC09) datasets**\n",
        "\n",
        "**on google colaboratory**"
      ]
    },
    {
      "cell_type": "markdown",
      "metadata": {
        "id": "8I7UoF66qd7E"
      },
      "source": [
        "clone source files"
      ]
    },
    {
      "cell_type": "code",
      "metadata": {
        "id": "G4DoMhiGqHlW"
      },
      "source": [
        "!git clone https://github.com/shun60s/Mel-GAN-clone"
      ],
      "execution_count": null,
      "outputs": []
    },
    {
      "cell_type": "markdown",
      "metadata": {
        "id": "DcF8012l6U0l"
      },
      "source": [
        "change working directory"
      ]
    },
    {
      "cell_type": "code",
      "metadata": {
        "id": "Imm4ipGw6R8F"
      },
      "source": [
        "%cd Mel-GAN-clone"
      ],
      "execution_count": null,
      "outputs": []
    },
    {
      "cell_type": "markdown",
      "metadata": {
        "id": "I8v7rcz97TE8"
      },
      "source": [
        "check file tree"
      ]
    },
    {
      "cell_type": "code",
      "metadata": {
        "id": "YJJp4cDI7QsF"
      },
      "source": [
        "!ls -l"
      ],
      "execution_count": null,
      "outputs": []
    },
    {
      "cell_type": "markdown",
      "metadata": {
        "id": "HrV8G0c7EgQn"
      },
      "source": [
        "get Speech Commands Zero through Nine (SC09) and unzip it\n",
        "\n",
        "\n"
      ]
    },
    {
      "cell_type": "code",
      "metadata": {
        "id": "iPJpklR_qYGn"
      },
      "source": [
        "!wget -P \"./wavs\" http://deepyeti.ucsd.edu/cdonahue/wavegan/data/sc09.tar.gz"
      ],
      "execution_count": null,
      "outputs": []
    },
    {
      "cell_type": "code",
      "metadata": {
        "id": "8_ISXZRbYxo8"
      },
      "source": [
        "!tar -xf \"./wavs/sc09.tar.gz\" -C ./wavs/"
      ],
      "execution_count": null,
      "outputs": []
    },
    {
      "cell_type": "markdown",
      "metadata": {
        "id": "b1_QYAiMCm6l"
      },
      "source": [
        "check sc09 file tree"
      ]
    },
    {
      "cell_type": "code",
      "metadata": {
        "id": "VFP72A1LBdk0"
      },
      "source": [
        "!ls -l ./wavs/sc09"
      ],
      "execution_count": null,
      "outputs": []
    },
    {
      "cell_type": "markdown",
      "metadata": {
        "id": "jE6h6BKtJ29R"
      },
      "source": [
        "To monitor training via tensorboard"
      ]
    },
    {
      "cell_type": "code",
      "metadata": {
        "id": "aFCuHAvA5C41"
      },
      "source": [
        "from __future__ import absolute_import, division, print_function, unicode_literals\n",
        "\n",
        "try:\n",
        "  # %tensorflow_version only exists in Colab.\n",
        "  %tensorflow_version 1.x\n",
        "except Exception:\n",
        "  pass"
      ],
      "execution_count": null,
      "outputs": []
    },
    {
      "cell_type": "markdown",
      "metadata": {
        "id": "SiryPYb-BXUZ"
      },
      "source": [
        "re-start after train ends, when tensorboard doesn't work."
      ]
    },
    {
      "cell_type": "code",
      "metadata": {
        "id": "10W4p__d5Po5"
      },
      "source": [
        "# Load the TensorBoard notebook extension\n",
        "%load_ext tensorboard"
      ],
      "execution_count": null,
      "outputs": []
    },
    {
      "cell_type": "code",
      "metadata": {
        "id": "8BvEukl3IPaR"
      },
      "source": [
        "%tensorboard --logdir=./logs"
      ],
      "execution_count": null,
      "outputs": []
    },
    {
      "cell_type": "markdown",
      "metadata": {
        "id": "nMtLMEA-Gw8w"
      },
      "source": [
        "**train**\n",
        "\n",
        "\n"
      ]
    },
    {
      "cell_type": "code",
      "metadata": {
        "id": "sHydMqHOlxV_"
      },
      "source": [
        "!python train.py --save_path ./logs --data_path ./ --n_test_samples 10"
      ],
      "execution_count": null,
      "outputs": []
    },
    {
      "cell_type": "markdown",
      "metadata": {
        "id": "Inu-4uxDD5WD"
      },
      "source": [
        "requirements\n"
      ]
    },
    {
      "cell_type": "code",
      "metadata": {
        "id": "3mum1e6uD36j"
      },
      "source": [
        "!pip install pyyaml==5.1"
      ],
      "execution_count": null,
      "outputs": []
    },
    {
      "cell_type": "markdown",
      "metadata": {
        "id": "yUHWq3wfKVmJ"
      },
      "source": [
        "**Generate**\n",
        "\n",
        "MelVocoder using best_netG.pt\n",
        "\n",
        "using valid_files.txt under --data_path"
      ]
    },
    {
      "cell_type": "code",
      "metadata": {
        "id": "n4qKX66iq_WY"
      },
      "source": [
        "!python generate_from_folder2.py --load_path ./logs --save_path ./wavout --data_path ./  --folder none"
      ],
      "execution_count": null,
      "outputs": []
    }
  ]
}